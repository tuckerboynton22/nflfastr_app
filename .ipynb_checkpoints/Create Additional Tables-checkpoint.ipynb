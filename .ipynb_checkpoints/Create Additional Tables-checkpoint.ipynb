{
 "cells": [
  {
   "cell_type": "code",
   "execution_count": 9,
   "id": "36e07d25",
   "metadata": {},
   "outputs": [
    {
     "name": "stdout",
     "output_type": "stream",
     "text": [
      "['passer_id', 'passer', 'posteam']\n"
     ]
    }
   ],
   "source": [
    "import csv\n",
    "from sqlalchemy import create_engine\n",
    "from sqlalchemy import Table, Column, String, MetaData"
   ]
  },
  {
   "cell_type": "code",
   "execution_count": 10,
   "id": "e204ea2d",
   "metadata": {},
   "outputs": [],
   "source": [
    "filename = 'passers.csv'\n",
    "table_name = 'passers'\n",
    "with open(filename, newline='') as csvfile:\n",
    "    data = [row for row in csv.reader(csvfile)]\n",
    "    column_names = data[0]\n",
    "    print(column_names)\n",
    "db_string = \"\"\n",
    "db = create_engine(db_string)\n",
    "meta = MetaData(db)  \n",
    "a = []\n",
    "for column in column_names:\n",
    "    a.append(Column(column, String))\n",
    "table = Table(table_name, meta, *a)\n",
    "with db.connect() as conn:\n",
    "    table.create()\n",
    "    for row in data[1:]:\n",
    "        insert_statement = table.insert().values(row)\n",
    "        conn.execute(insert_statement)"
   ]
  },
  {
   "cell_type": "code",
   "execution_count": 11,
   "id": "0e2b8202",
   "metadata": {},
   "outputs": [
    {
     "name": "stdout",
     "output_type": "stream",
     "text": [
      "['id', 'name', 'posteam']\n"
     ]
    }
   ],
   "source": [
    "filename = 'names.csv'\n",
    "table_name = 'names'\n",
    "with open(filename, newline='') as csvfile:\n",
    "    data = [row for row in csv.reader(csvfile)]\n",
    "    column_names = data[0]\n",
    "    print(column_names)\n",
    "db_string = \"\"\n",
    "db = create_engine(db_string)\n",
    "meta = MetaData(db)  \n",
    "a = []\n",
    "for column in column_names:\n",
    "    a.append(Column(column, String))\n",
    "table = Table(table_name, meta, *a)\n",
    "with db.connect() as conn:\n",
    "    table.create()\n",
    "    for row in data[1:]:\n",
    "        insert_statement = table.insert().values(row)\n",
    "        conn.execute(insert_statement)"
   ]
  },
  {
   "cell_type": "code",
   "execution_count": 12,
   "id": "da6f0d6a",
   "metadata": {},
   "outputs": [
    {
     "name": "stdout",
     "output_type": "stream",
     "text": [
      "['rusher_id', 'rusher', 'posteam']\n"
     ]
    }
   ],
   "source": [
    "filename = 'rushers.csv'\n",
    "table_name = 'rushers'\n",
    "with open(filename, newline='') as csvfile:\n",
    "    data = [row for row in csv.reader(csvfile)]\n",
    "    column_names = data[0]\n",
    "    print(column_names)\n",
    "db_string = \"\"\n",
    "db = create_engine(db_string)\n",
    "meta = MetaData(db)  \n",
    "a = []\n",
    "for column in column_names:\n",
    "    a.append(Column(column, String))\n",
    "table = Table(table_name, meta, *a)\n",
    "with db.connect() as conn:\n",
    "    table.create()\n",
    "    for row in data[1:]:\n",
    "        insert_statement = table.insert().values(row)\n",
    "        conn.execute(insert_statement)"
   ]
  },
  {
   "cell_type": "code",
   "execution_count": 13,
   "id": "b9972259",
   "metadata": {},
   "outputs": [
    {
     "name": "stdout",
     "output_type": "stream",
     "text": [
      "['receiver_id', 'receiver', 'posteam']\n"
     ]
    }
   ],
   "source": [
    "filename = 'receivers.csv'\n",
    "table_name = 'receivers'\n",
    "with open(filename, newline='') as csvfile:\n",
    "    data = [row for row in csv.reader(csvfile)]\n",
    "    column_names = data[0]\n",
    "    print(column_names)\n",
    "db_string = \"\"\n",
    "db = create_engine(db_string)\n",
    "meta = MetaData(db)  \n",
    "a = []\n",
    "for column in column_names:\n",
    "    a.append(Column(column, String))\n",
    "table = Table(table_name, meta, *a)\n",
    "with db.connect() as conn:\n",
    "    table.create()\n",
    "    for row in data[1:]:\n",
    "        insert_statement = table.insert().values(row)\n",
    "        conn.execute(insert_statement)"
   ]
  }
 ],
 "metadata": {
  "kernelspec": {
   "display_name": "Python 3",
   "language": "python",
   "name": "python3"
  },
  "language_info": {
   "codemirror_mode": {
    "name": "ipython",
    "version": 3
   },
   "file_extension": ".py",
   "mimetype": "text/x-python",
   "name": "python",
   "nbconvert_exporter": "python",
   "pygments_lexer": "ipython3",
   "version": "3.8.8"
  }
 },
 "nbformat": 4,
 "nbformat_minor": 5
}
